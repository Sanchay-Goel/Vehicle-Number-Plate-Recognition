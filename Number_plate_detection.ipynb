{
  "nbformat": 4,
  "nbformat_minor": 0,
  "metadata": {
    "colab": {
      "name": "Number-plate-detection.ipynb",
      "provenance": [],
      "collapsed_sections": []
    },
    "kernelspec": {
      "name": "python3",
      "display_name": "Python 3"
    }
  },
  "cells": [
    {
      "cell_type": "markdown",
      "metadata": {
        "id": "QcxIS9FfwS2n",
        "colab_type": "text"
      },
      "source": [
        "#Vehicle Number Plate Detection\n",
        "This project uses opencv and yolo to detect and recognise the vehice number plates of Indian vehicles.\n",
        "First of all, yolov3 is trained for given dataset(code in seperate file) and then the final weights obtained are used in this file for the detection of number plates.\n",
        "After the number plates are detected and bounding boxex created, the image is cropped and passes as an argument to a website for performing OCR, which returns the vehicle recognition number.\n",
        "After that, vehicle information related to that vehicle registration number is obtained from rto website by performing webscraping."
      ]
    },
    {
      "cell_type": "code",
      "metadata": {
        "id": "kD5CNROMRNdA",
        "colab_type": "code",
        "colab": {
          "base_uri": "https://localhost:8080/",
          "height": 810
        },
        "outputId": "e64211e7-6082-4173-ea13-7430dd08c149"
      },
      "source": [
        "!pip install pillow\n",
        "!pip install pytesseract\n",
        "!sudo apt install tesseract-ocr"
      ],
      "execution_count": 1,
      "outputs": [
        {
          "output_type": "stream",
          "text": [
            "Requirement already satisfied: pillow in /usr/local/lib/python3.6/dist-packages (7.0.0)\n",
            "Collecting pytesseract\n",
            "  Downloading https://files.pythonhosted.org/packages/3c/1d/2993a05adb253902a372d7886733ae7688615cf000c54fe3c075892cb5d4/pytesseract-0.3.3.tar.gz\n",
            "Requirement already satisfied: Pillow in /usr/local/lib/python3.6/dist-packages (from pytesseract) (7.0.0)\n",
            "Building wheels for collected packages: pytesseract\n",
            "  Building wheel for pytesseract (setup.py) ... \u001b[?25l\u001b[?25hdone\n",
            "  Created wheel for pytesseract: filename=pytesseract-0.3.3-py2.py3-none-any.whl size=13396 sha256=83378040bc4ae7399beb8f9089d6b44afa4ee740adc81c728a872174f24d76c2\n",
            "  Stored in directory: /root/.cache/pip/wheels/82/1a/d0/a884540a5602305f5bb7ff44f05550be20453edce8fae69241\n",
            "Successfully built pytesseract\n",
            "Installing collected packages: pytesseract\n",
            "Successfully installed pytesseract-0.3.3\n",
            "Reading package lists... Done\n",
            "Building dependency tree       \n",
            "Reading state information... Done\n",
            "The following additional packages will be installed:\n",
            "  tesseract-ocr-eng tesseract-ocr-osd\n",
            "The following NEW packages will be installed:\n",
            "  tesseract-ocr tesseract-ocr-eng tesseract-ocr-osd\n",
            "0 upgraded, 3 newly installed, 0 to remove and 25 not upgraded.\n",
            "Need to get 4,795 kB of archives.\n",
            "After this operation, 15.8 MB of additional disk space will be used.\n",
            "Get:1 http://archive.ubuntu.com/ubuntu bionic/universe amd64 tesseract-ocr-eng all 4.00~git24-0e00fe6-1.2 [1,588 kB]\n",
            "Get:2 http://archive.ubuntu.com/ubuntu bionic/universe amd64 tesseract-ocr-osd all 4.00~git24-0e00fe6-1.2 [2,989 kB]\n",
            "Get:3 http://archive.ubuntu.com/ubuntu bionic/universe amd64 tesseract-ocr amd64 4.00~git2288-10f4998a-2 [218 kB]\n",
            "Fetched 4,795 kB in 2s (2,950 kB/s)\n",
            "debconf: unable to initialize frontend: Dialog\n",
            "debconf: (No usable dialog-like program is installed, so the dialog based frontend cannot be used. at /usr/share/perl5/Debconf/FrontEnd/Dialog.pm line 76, <> line 3.)\n",
            "debconf: falling back to frontend: Readline\n",
            "debconf: unable to initialize frontend: Readline\n",
            "debconf: (This frontend requires a controlling tty.)\n",
            "debconf: falling back to frontend: Teletype\n",
            "dpkg-preconfigure: unable to re-open stdin: \n",
            "Selecting previously unselected package tesseract-ocr-eng.\n",
            "(Reading database ... 144568 files and directories currently installed.)\n",
            "Preparing to unpack .../tesseract-ocr-eng_4.00~git24-0e00fe6-1.2_all.deb ...\n",
            "Unpacking tesseract-ocr-eng (4.00~git24-0e00fe6-1.2) ...\n",
            "Selecting previously unselected package tesseract-ocr-osd.\n",
            "Preparing to unpack .../tesseract-ocr-osd_4.00~git24-0e00fe6-1.2_all.deb ...\n",
            "Unpacking tesseract-ocr-osd (4.00~git24-0e00fe6-1.2) ...\n",
            "Selecting previously unselected package tesseract-ocr.\n",
            "Preparing to unpack .../tesseract-ocr_4.00~git2288-10f4998a-2_amd64.deb ...\n",
            "Unpacking tesseract-ocr (4.00~git2288-10f4998a-2) ...\n",
            "Setting up tesseract-ocr-osd (4.00~git24-0e00fe6-1.2) ...\n",
            "Setting up tesseract-ocr-eng (4.00~git24-0e00fe6-1.2) ...\n",
            "Setting up tesseract-ocr (4.00~git2288-10f4998a-2) ...\n",
            "Processing triggers for man-db (2.8.3-2ubuntu0.1) ...\n"
          ],
          "name": "stdout"
        }
      ]
    },
    {
      "cell_type": "code",
      "metadata": {
        "id": "0t0Ujh_xRuw8",
        "colab_type": "code",
        "colab": {}
      },
      "source": [
        "#copy required files from drive\n",
        "!mkdir darknet\n",
        "!cp /content/drive/\"My Drive\"/\"Number Plate Detection\"/obj.cfg /content/darknet\n",
        "!cp /content/drive/\"My Drive\"/\"Number Plate Detection\"/obj.names /content/darknet\n",
        "!cp /content/drive/\"My Drive\"/\"Number Plate Detection\"/obj.data /content/darknet"
      ],
      "execution_count": 0,
      "outputs": []
    },
    {
      "cell_type": "code",
      "metadata": {
        "id": "UdfAkcjUSazV",
        "colab_type": "code",
        "colab": {}
      },
      "source": [
        "#copy trained weights from drive\n",
        "!cp /content/drive/\"My Drive\"/\"Number Plate Detection\"/yolo-obj_final_vehicle.weights /content/darknet"
      ],
      "execution_count": 0,
      "outputs": []
    },
    {
      "cell_type": "code",
      "metadata": {
        "id": "mRpNpQbbS4uu",
        "colab_type": "code",
        "colab": {}
      },
      "source": [
        "import cv2\n",
        "import numpy as np\n",
        "import pytesseract\n",
        "import pandas as pd\n",
        "from google.colab.patches import cv2_imshow\n",
        "def get_output_layers(net):\n",
        "    \n",
        "    layer_names = net.getLayerNames()\n",
        "    \n",
        "    output_layers = [layer_names[i[0] - 1] for i in net.getUnconnectedOutLayers()]\n",
        "\n",
        "    return output_layers"
      ],
      "execution_count": 0,
      "outputs": []
    },
    {
      "cell_type": "code",
      "metadata": {
        "id": "cQ8ZwT1gTKCM",
        "colab_type": "code",
        "colab": {}
      },
      "source": [
        "def draw_prediction(img, class_id, confidence, x, y, x_plus_w, y_plus_h):\n",
        "\n",
        "    label = str(classes[class_id])\n",
        "\n",
        "    color = COLORS[class_id]\n",
        "\n",
        "    cv2.rectangle(img, (x,y), (x_plus_w,y_plus_h), color, 2)\n",
        "\n",
        "    cv2.putText(img, label, (x-10,y-10), cv2.FONT_HERSHEY_SIMPLEX, 0.5, color, 2)\n"
      ],
      "execution_count": 0,
      "outputs": []
    },
    {
      "cell_type": "code",
      "metadata": {
        "id": "4a-L8MoYmiSz",
        "colab_type": "code",
        "colab": {}
      },
      "source": [
        "import numpy as np\n",
        "import requests\n",
        "import io\n",
        "import json\n",
        "\n",
        "url_api = \"https://api.ocr.space/parse/image\"\n",
        "api_key = 'a0bb6cecb388957'\n"
      ],
      "execution_count": 0,
      "outputs": []
    },
    {
      "cell_type": "markdown",
      "metadata": {
        "id": "DHcmADOBy7Rq",
        "colab_type": "text"
      },
      "source": [
        "Function to return the vehicle registration number from the cropped image"
      ]
    },
    {
      "cell_type": "code",
      "metadata": {
        "id": "L-zD2wsFop9h",
        "colab_type": "code",
        "colab": {}
      },
      "source": [
        "def number_plate_recognition(img):\n",
        "  cv2.imwrite('test.jpg', img)\n",
        "\n",
        "  _, compressedimage = cv2.imencode(\".jpg\", img, [1, 90])\n",
        "  file_bytes = io.BytesIO(compressedimage)\n",
        "\n",
        "  result = requests.post(url_api,files={\"test.jpg\" : file_bytes},data={\"apikey\":api_key})\n",
        "  result = result.content.decode()\n",
        "  result = json.loads(result)\n",
        "  #print(result)\n",
        "\n",
        "  parsed_results = result.get(\"ParsedResults\")[0]\n",
        "  text_detected = parsed_results.get(\"ParsedText\")\n",
        "  print(text_detected)\n",
        "  !rm 'test.jpg'\n",
        "  return text_detected"
      ],
      "execution_count": 0,
      "outputs": []
    },
    {
      "cell_type": "markdown",
      "metadata": {
        "id": "5epZTyZCrv5F",
        "colab_type": "text"
      },
      "source": [
        "Creating bounding boxess and then performing number plate recognition"
      ]
    },
    {
      "cell_type": "code",
      "metadata": {
        "id": "Zkj7q2DeTMlU",
        "colab_type": "code",
        "colab": {
          "base_uri": "https://localhost:8080/",
          "height": 408
        },
        "outputId": "23069242-9dcf-41f1-f3fa-6ab66c87726b"
      },
      "source": [
        "from PIL import Image\n",
        "#image_path = '/content/darknet/data/obj/2.jpg'\n",
        "image_paths = ['151.jpg', '157.jpg', '160.jpg']\n",
        "weights_path = '/content/darknet/yolo-obj_final_vehicle.weights'\n",
        "config_path = '/content/darknet/obj.cfg'\n",
        "classes_path = '/content/darknet/obj.names'\n",
        "data = []\n",
        "#cause i have 32 images hence range(1,33)\n",
        "for image_path in image_paths:\n",
        "  vehicle_data = {}\n",
        "  #image_path = '/content/darknet/data/obj/%s.jpg'%j\n",
        "  print(image_path)\n",
        "  image = cv2.imread(image_path)\n",
        "  Width = image.shape[1]\n",
        "  Height = image.shape[0]\n",
        "  print(image.shape)\n",
        "  scale = 0.00392\n",
        "\n",
        "  classes = None\n",
        "\n",
        "  with open(classes_path, 'r') as f:\n",
        "      classes = [line.strip() for line in f.readlines()]\n",
        "\n",
        "  COLORS = np.random.uniform(0, 255, size=(len(classes), 3))\n",
        "\n",
        "  net = cv2.dnn.readNet(weights_path, config_path)\n",
        "\n",
        "  blob = cv2.dnn.blobFromImage(image, scale, (416,416), (0,0,0), True, crop=False)\n",
        "\n",
        "  net.setInput(blob)\n",
        "\n",
        "  outs = net.forward(get_output_layers(net))\n",
        "\n",
        "  class_ids = []\n",
        "  confidences = []\n",
        "  boxes = []\n",
        "  conf_threshold = 0.5\n",
        "  nms_threshold = 0.4\n",
        "\n",
        "\n",
        "  for out in outs:\n",
        "      for detection in out:\n",
        "          scores = detection[5:]\n",
        "          class_id = np.argmax(scores)\n",
        "          confidence = scores[class_id]\n",
        "          if confidence > 0.5:\n",
        "              center_x = int(detection[0] * Width)\n",
        "              center_y = int(detection[1] * Height)\n",
        "              w = int(detection[2] * Width)\n",
        "              h = int(detection[3] * Height)\n",
        "              x = center_x - w / 2\n",
        "              y = center_y - h / 2\n",
        "              class_ids.append(class_id)\n",
        "              confidences.append(float(confidence))\n",
        "              boxes.append([x, y, w, h])\n",
        "\n",
        "  im_pil = Image.fromarray(image)\n",
        "\n",
        "  indices = cv2.dnn.NMSBoxes(boxes, confidences, conf_threshold, nms_threshold)\n",
        "\n",
        "  for i in indices:\n",
        "      i = i[0]\n",
        "      box = boxes[i]\n",
        "      x = box[0]\n",
        "      y = box[1]\n",
        "      w = box[2]\n",
        "      h = box[3]\n",
        "      #draw_prediction(image, class_ids[i], confidences[i], round(x), round(y), round(x+w), round(y+h))\n",
        "      cropped_img = im_pil.crop((x,y,x+w,y+h))\n",
        "      im_np = np.asarray(cropped_img)\n",
        "      sharpen_kernel = np.array([[-1,-1,-1], [-1,9,-1], [-1,-1,-1]])\n",
        "      img = cv2.filter2D(im_np, -1, sharpen_kernel)\n",
        "      scale_percent =300 # percent of original size\n",
        "      width = int(img.shape[1] * scale_percent / 100) \n",
        "      height = int(img.shape[0] * scale_percent / 100)\n",
        "      dim = (width, height)\n",
        "      img = cv2.cvtColor(img, cv2.COLOR_BGR2GRAY)\n",
        "      kernel = np.ones((1, 1), np.uint8)\n",
        "      img = cv2.dilate(img, kernel, iterations=1)\n",
        "      img = cv2.erode(img, kernel, iterations=1)\n",
        "      print(type(img))\n",
        "      r = number_plate_recognition(img)\n",
        "      vehicle_data['num'] = r\n",
        "      cv2_imshow(img) #uncomment cv2_imshow if you want to see cropped image\n",
        "      cv2.waitKey()\n",
        "  data.append(vehicle_data['num'])\n"
      ],
      "execution_count": 10,
      "outputs": [
        {
          "output_type": "stream",
          "text": [
            "151.jpg\n",
            "(450, 429, 3)\n",
            "<class 'numpy.ndarray'>\n",
            "PB08 CX 2955\n",
            "\n"
          ],
          "name": "stdout"
        },
        {
          "output_type": "display_data",
          "data": {
            "image/png": "[encoded data removed]",
            "text/plain": [
              "<PIL.Image.Image image mode=L size=190x60 at 0x7F6B3690A828>"
            ]
          },
          "metadata": {
            "tags": []
          }
        },
        {
          "output_type": "stream",
          "text": [
            "157.jpg\n",
            "(224, 400, 3)\n",
            "<class 'numpy.ndarray'>\n",
            "HR26DA6471\n",
            "\n"
          ],
          "name": "stdout"
        },
        {
          "output_type": "display_data",
          "data": {
            "image/png": "[encoded data removed]",
            "text/plain": [
              "<PIL.Image.Image image mode=L size=120x48 at 0x7F6B36913828>"
            ]
          },
          "metadata": {
            "tags": []
          }
        },
        {
          "output_type": "stream",
          "text": [
            "160.jpg\n",
            "(267, 330, 3)\n",
            "<class 'numpy.ndarray'>\n",
            "\n"
          ],
          "name": "stdout"
        },
        {
          "output_type": "display_data",
          "data": {
            "image/png": "[encoded data removed]",
            "text/plain": [
              "<PIL.Image.Image image mode=L size=158x48 at 0x7F6B36913E80>"
            ]
          },
          "metadata": {
            "tags": []
          }
        }
      ]
    },
    {
      "cell_type": "code",
      "metadata": {
        "id": "XY1PsDMqmUrS",
        "colab_type": "code",
        "colab": {
          "base_uri": "https://localhost:8080/",
          "height": 34
        },
        "outputId": "1a05785d-c828-4f20-c792-07487140e6c2"
      },
      "source": [
        "print(data)"
      ],
      "execution_count": 11,
      "outputs": [
        {
          "output_type": "stream",
          "text": [
            "['PB08 CX 2955\\r\\n', 'HR26DA6471\\r\\n', '']\n"
          ],
          "name": "stdout"
        }
      ]
    },
    {
      "cell_type": "markdown",
      "metadata": {
        "id": "5F-KYZ05n0Pf",
        "colab_type": "text"
      },
      "source": [
        "##Web-scraping part\n",
        "Mechanize and BeautifulSoup python libraries are used to extract the data related to a vehicle, from a given vehicle registration number."
      ]
    },
    {
      "cell_type": "code",
      "metadata": {
        "id": "II5kWf9zrMSR",
        "colab_type": "code",
        "colab": {
          "base_uri": "https://localhost:8080/",
          "height": 205
        },
        "outputId": "f05017bd-ab5c-49bc-ef8e-1cb7fd0771a5"
      },
      "source": [
        "!pip install mechanize\n",
        "!pip install bs4"
      ],
      "execution_count": 12,
      "outputs": [
        {
          "output_type": "stream",
          "text": [
            "Collecting mechanize\n",
            "\u001b[?25l  Downloading https://files.pythonhosted.org/packages/13/08/77368b47ba2f9e0c03f33902ed2c8e0fa83d15d81dcf7fe102b40778d810/mechanize-0.4.5-py2.py3-none-any.whl (109kB)\n",
            "\r\u001b[K     |███                             | 10kB 18.8MB/s eta 0:00:01\r\u001b[K     |██████                          | 20kB 3.1MB/s eta 0:00:01\r\u001b[K     |█████████                       | 30kB 3.8MB/s eta 0:00:01\r\u001b[K     |████████████                    | 40kB 2.9MB/s eta 0:00:01\r\u001b[K     |███████████████                 | 51kB 2.9MB/s eta 0:00:01\r\u001b[K     |██████████████████              | 61kB 3.4MB/s eta 0:00:01\r\u001b[K     |█████████████████████           | 71kB 3.7MB/s eta 0:00:01\r\u001b[K     |████████████████████████        | 81kB 3.9MB/s eta 0:00:01\r\u001b[K     |███████████████████████████     | 92kB 4.4MB/s eta 0:00:01\r\u001b[K     |██████████████████████████████  | 102kB 4.7MB/s eta 0:00:01\r\u001b[K     |████████████████████████████████| 112kB 4.7MB/s \n",
            "\u001b[?25hRequirement already satisfied: html5lib>=0.999999999 in /usr/local/lib/python3.6/dist-packages (from mechanize) (1.0.1)\n",
            "Requirement already satisfied: webencodings in /usr/local/lib/python3.6/dist-packages (from html5lib>=0.999999999->mechanize) (0.5.1)\n",
            "Requirement already satisfied: six>=1.9 in /usr/local/lib/python3.6/dist-packages (from html5lib>=0.999999999->mechanize) (1.12.0)\n",
            "Installing collected packages: mechanize\n",
            "Successfully installed mechanize-0.4.5\n",
            "Requirement already satisfied: bs4 in /usr/local/lib/python3.6/dist-packages (0.0.1)\n",
            "Requirement already satisfied: beautifulsoup4 in /usr/local/lib/python3.6/dist-packages (from bs4) (4.6.3)\n"
          ],
          "name": "stdout"
        }
      ]
    },
    {
      "cell_type": "code",
      "metadata": {
        "id": "sfiNpaG4qDrW",
        "colab_type": "code",
        "colab": {}
      },
      "source": [
        "from mechanize import Browser\n",
        "from bs4 import BeautifulSoup\n",
        "\n",
        "url = 'http://www.rtovehicleinformation.com/'\n",
        "\n",
        "def get_vehicle_data(vehicle_num):    \n",
        "    br = Browser()\n",
        "    br.set_handle_robots(False)\n",
        "\n",
        "    print(\"Connecting..\")\n",
        "    br.open(url)\n",
        "    br.select_form('rto_adres_form1')\n",
        "    br.form['vehicle_shrt_name'] = vehicle_num\n",
        "\n",
        "    response = br.submit()\n",
        "\n",
        "    #get all attributes related to an object.\n",
        "    #print(dir(response))\n",
        "    print(\"Connected to \" + response.geturl())\n",
        "\n",
        "    print(\"Extracting Data...\\n\")\n",
        "    soup = BeautifulSoup(response.get_data(), 'html.parser')\n",
        "    #print(soup.prettify())\n",
        "\n",
        "    table = soup.find('table', id='divIncidents')\n",
        "    rows = table.find_all('tr')\n",
        "    ans = {}\n",
        "    for i in range(5):\n",
        "        data = rows[i].find_all('td')\n",
        "        print(data[0].text+\":  \"+data[1].text)\n",
        "        ans[data[0].text] = data[1].text\n",
        "    return ans"
      ],
      "execution_count": 0,
      "outputs": []
    },
    {
      "cell_type": "markdown",
      "metadata": {
        "id": "5CwPR4EhyoHn",
        "colab_type": "text"
      },
      "source": [
        "Store the extracted data in a dictionary, which can be further stored in a csv file."
      ]
    },
    {
      "cell_type": "code",
      "metadata": {
        "id": "pseAbt2KrfDQ",
        "colab_type": "code",
        "colab": {
          "base_uri": "https://localhost:8080/",
          "height": 386
        },
        "outputId": "90ec2e6f-d89f-4045-ffff-5d502fb71c7c"
      },
      "source": [
        "final_data = []\n",
        "for vehicle in data:\n",
        "  vehicle_info = get_vehicle_data(vehicle)\n",
        "  final_data.append(vehicle_info)"
      ],
      "execution_count": 0,
      "outputs": [
        {
          "output_type": "stream",
          "text": [
            "Connecting..\n",
            "Connected to http://www.rtovehicleinformation.com/rto-vehicle-information-details\n",
            "Extracting Data...\n",
            "\n",
            "Owner Name:  ARJUN SACHDEVA\n",
            "Vehicle Name:  TATA MOTORS LTD / LPT 1613\n",
            "Registration No.:  PB08CX2955\n",
            "Registration Date:  01-Apr-2010\n",
            "Registration Authority:  JALANDHAR RTA, PUNJAB\n",
            "Connecting..\n",
            "Connected to http://www.rtovehicleinformation.com/rto-vehicle-information-details\n",
            "Extracting Data...\n",
            "\n",
            "Owner Name:  PRAVEEN BHIMRAO MALI\n",
            "Vehicle Name:  SKODA AUTO INDIA PVT LTD / SKODA RAPID\n",
            "Registration No.:  HR26DA6471\n",
            "Registration Date:  22-Nov-2016\n",
            "Registration Authority:  GURUGRAM NORTH, HARYANA\n",
            "Connecting..\n",
            "Connected to http://www.rtovehicleinformation.com/rto-vehicle-information-details\n",
            "Extracting Data...\n",
            "\n"
          ],
          "name": "stdout"
        }
      ]
    },
    {
      "cell_type": "code",
      "metadata": {
        "id": "Nf88JVSyvftX",
        "colab_type": "code",
        "colab": {}
      },
      "source": [
        ""
      ],
      "execution_count": 0,
      "outputs": []
    }
  ]
}